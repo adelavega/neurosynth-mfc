{
 "cells": [
  {
   "cell_type": "markdown",
   "metadata": {},
   "source": [
    "# Neurosynth MFC parcellation and decoding\n",
    "\n",
    "> The following notebooks accompany [our paper](http://www.jneurosci.org/content/36/24/6553.short):\n",
    "De La Vega, Chang, Banich, Wager & Yarkoni (2016) Large-scale meta-analysis of human medial frontal cortex reveals tripartite functional organization. Journal of Neuroscience.\n",
    "\n",
    "> Follow along in the following order to replicate our analyses, and feel free to use our code to apply the same analyses to brain regions of your choosing.\n",
    "\n"
   ]
  },
  {
   "cell_type": "markdown",
   "metadata": {},
   "source": [
    "### 0) before you begin, unzip the data:"
   ]
  },
  {
   "cell_type": "code",
   "execution_count": null,
   "metadata": {
    "collapsed": true,
    "deletable": true,
    "editable": true
   },
   "outputs": [],
   "source": [
    "import zipfile\n",
    "with zipfile.ZipFile('data/neurosynth_60_0.4.pkl.zip',\"r\") as zip_ref:\n",
    "    zip_ref.extractall(\"data\")"
   ]
  },
  {
   "cell_type": "markdown",
   "metadata": {},
   "source": [
    "### 1) [clustering](clustering.ipynb)\n",
    "\n",
    "### 2) [coactivation](coactivation.ipynb)\n",
    "\n",
    "### 3) [functional preference profiles](profiles.ipynb)"
   ]
  }
 ],
 "metadata": {
  "kernelspec": {
   "display_name": "Python 3",
   "language": "python",
   "name": "python3"
  },
  "language_info": {
   "codemirror_mode": {
    "name": "ipython",
    "version": 3
   },
   "file_extension": ".py",
   "mimetype": "text/x-python",
   "name": "python",
   "nbconvert_exporter": "python",
   "pygments_lexer": "ipython3",
   "version": "3.5.2"
  }
 },
 "nbformat": 4,
 "nbformat_minor": 2
}
